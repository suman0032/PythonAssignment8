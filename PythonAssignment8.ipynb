{
 "cells": [
  {
   "cell_type": "code",
   "execution_count": 9,
   "metadata": {},
   "outputs": [
    {
     "data": {
      "text/plain": [
       "'C:\\\\Users\\\\ANANYA\\\\Desktop\\\\DataScience'"
      ]
     },
     "execution_count": 9,
     "metadata": {},
     "output_type": "execute_result"
    }
   ],
   "source": [
    "import numpy as np\n",
    "import pandas as pd\n",
    "import os\n",
    "import matplotlib.pyplot as plt\n",
    "from IPython.display import Image\n",
    "%matplotlib inline\n",
    "%pwd"
   ]
  },
  {
   "cell_type": "code",
   "execution_count": 29,
   "metadata": {},
   "outputs": [],
   "source": [
    "df['Z']=0\n",
    "df.drop('Z',axis=1,inplace=True)\n",
    "#df.describe()\n",
    "#Image('Kazi-Nazrul-Islam.jpg')"
   ]
  },
  {
   "cell_type": "code",
   "execution_count": 52,
   "metadata": {},
   "outputs": [
    {
     "data": {
      "text/html": [
       "<div>\n",
       "<style scoped>\n",
       "    .dataframe tbody tr th:only-of-type {\n",
       "        vertical-align: middle;\n",
       "    }\n",
       "\n",
       "    .dataframe tbody tr th {\n",
       "        vertical-align: top;\n",
       "    }\n",
       "\n",
       "    .dataframe thead th {\n",
       "        text-align: right;\n",
       "    }\n",
       "</style>\n",
       "<table border=\"1\" class=\"dataframe\">\n",
       "  <thead>\n",
       "    <tr style=\"text-align: right;\">\n",
       "      <th></th>\n",
       "      <th>X</th>\n",
       "      <th>Y</th>\n",
       "    </tr>\n",
       "  </thead>\n",
       "  <tbody>\n",
       "    <tr>\n",
       "      <th>0</th>\n",
       "      <td>7</td>\n",
       "      <td>1</td>\n",
       "    </tr>\n",
       "    <tr>\n",
       "      <th>1</th>\n",
       "      <td>2</td>\n",
       "      <td>2</td>\n",
       "    </tr>\n",
       "    <tr>\n",
       "      <th>2</th>\n",
       "      <td>0</td>\n",
       "      <td>0</td>\n",
       "    </tr>\n",
       "    <tr>\n",
       "      <th>3</th>\n",
       "      <td>3</td>\n",
       "      <td>1</td>\n",
       "    </tr>\n",
       "    <tr>\n",
       "      <th>4</th>\n",
       "      <td>4</td>\n",
       "      <td>2</td>\n",
       "    </tr>\n",
       "    <tr>\n",
       "      <th>5</th>\n",
       "      <td>2</td>\n",
       "      <td>3</td>\n",
       "    </tr>\n",
       "    <tr>\n",
       "      <th>6</th>\n",
       "      <td>5</td>\n",
       "      <td>4</td>\n",
       "    </tr>\n",
       "    <tr>\n",
       "      <th>7</th>\n",
       "      <td>0</td>\n",
       "      <td>0</td>\n",
       "    </tr>\n",
       "    <tr>\n",
       "      <th>8</th>\n",
       "      <td>3</td>\n",
       "      <td>1</td>\n",
       "    </tr>\n",
       "    <tr>\n",
       "      <th>9</th>\n",
       "      <td>4</td>\n",
       "      <td>2</td>\n",
       "    </tr>\n",
       "  </tbody>\n",
       "</table>\n",
       "</div>"
      ],
      "text/plain": [
       "   X  Y\n",
       "0  7  1\n",
       "1  2  2\n",
       "2  0  0\n",
       "3  3  1\n",
       "4  4  2\n",
       "5  2  3\n",
       "6  5  4\n",
       "7  0  0\n",
       "8  3  1\n",
       "9  4  2"
      ]
     },
     "execution_count": 52,
     "metadata": {},
     "output_type": "execute_result"
    }
   ],
   "source": [
    "#Assignment 1 How-to-count-distance-to-the-previous-zero\n",
    "df = pd.DataFrame({'X': [7, 2, 0, 3, 4, 2, 5, 0, 3, 4]})\n",
    "n,p,y,i=len(df),0,[],0\n",
    "while p<n:\n",
    "    if int(df.iloc[p])==0:\n",
    "        y.append(0)\n",
    "        i=0\n",
    "    else:\n",
    "        y.append(i+1)\n",
    "        i=i+1\n",
    "    p=p+1\n",
    "df['Y']=y\n",
    "df"
   ]
  },
  {
   "cell_type": "code",
   "execution_count": 55,
   "metadata": {
    "scrolled": true
   },
   "outputs": [
    {
     "name": "stdout",
     "output_type": "stream",
     "text": [
      "2015-01-01    0.059355\n",
      "2015-01-02    0.894540\n",
      "2015-01-05    0.680176\n",
      "2015-01-06    0.289059\n",
      "2015-01-07    0.503614\n",
      "2015-01-08    0.344428\n",
      "2015-01-09    0.019883\n",
      "2015-01-12    0.540446\n",
      "2015-01-13    0.687282\n",
      "2015-01-14    0.741002\n",
      "2015-01-15    0.553793\n",
      "2015-01-16    0.058079\n",
      "2015-01-19    0.952426\n",
      "2015-01-20    0.633009\n",
      "2015-01-21    0.853294\n",
      "2015-01-22    0.183946\n",
      "2015-01-23    0.829281\n",
      "2015-01-26    0.331841\n",
      "2015-01-27    0.249022\n",
      "2015-01-28    0.932500\n",
      "2015-01-29    0.772605\n",
      "2015-01-30    0.403008\n",
      "2015-02-02    0.417723\n",
      "2015-02-03    0.135653\n",
      "2015-02-04    0.818053\n",
      "2015-02-05    0.483659\n",
      "2015-02-06    0.386481\n",
      "2015-02-09    0.748710\n",
      "2015-02-10    0.420881\n",
      "2015-02-11    0.353321\n",
      "                ...   \n",
      "2015-11-20    0.041739\n",
      "2015-11-23    0.994614\n",
      "2015-11-24    0.240785\n",
      "2015-11-25    0.364243\n",
      "2015-11-26    0.822128\n",
      "2015-11-27    0.255138\n",
      "2015-11-30    0.829021\n",
      "2015-12-01    0.407204\n",
      "2015-12-02    0.730423\n",
      "2015-12-03    0.891805\n",
      "2015-12-04    0.972250\n",
      "2015-12-07    0.751281\n",
      "2015-12-08    0.138261\n",
      "2015-12-09    0.359249\n",
      "2015-12-10    0.277588\n",
      "2015-12-11    0.721246\n",
      "2015-12-14    0.414168\n",
      "2015-12-15    0.829306\n",
      "2015-12-16    0.154471\n",
      "2015-12-17    0.604195\n",
      "2015-12-18    0.172943\n",
      "2015-12-21    0.178234\n",
      "2015-12-22    0.064937\n",
      "2015-12-23    0.739878\n",
      "2015-12-24    0.400346\n",
      "2015-12-25    0.230883\n",
      "2015-12-28    0.451130\n",
      "2015-12-29    0.209257\n",
      "2015-12-30    0.562978\n",
      "2015-12-31    0.252917\n",
      "Freq: B, Length: 261, dtype: float64\n"
     ]
    }
   ],
   "source": [
    "#Create a DatetimeIndex that contains each business day of 2015 and use it to index a Series of random numbers.\n",
    "dti = pd.date_range(start='2015-01-01', end='2015-12-31', freq='B') \n",
    "s = pd.Series(np.random.rand(len(dti)), index=dti)\n",
    "print(s)"
   ]
  },
  {
   "cell_type": "code",
   "execution_count": 57,
   "metadata": {},
   "outputs": [
    {
     "data": {
      "text/plain": [
       "27.197993503080195"
      ]
     },
     "execution_count": 57,
     "metadata": {},
     "output_type": "execute_result"
    }
   ],
   "source": [
    "#Assignment3:Find the sum of the values in s for every Wednesday\n",
    "\n",
    "s[dti.weekday == 2].sum() \n"
   ]
  },
  {
   "cell_type": "code",
   "execution_count": 59,
   "metadata": {},
   "outputs": [
    {
     "name": "stderr",
     "output_type": "stream",
     "text": [
      "C:\\Users\\ANANYA\\Anaconda3\\lib\\site-packages\\ipykernel_launcher.py:3: FutureWarning: how in .resample() is deprecated\n",
      "the new syntax is .resample(...).mean()\n",
      "  This is separate from the ipykernel package so we can avoid doing imports until\n"
     ]
    },
    {
     "data": {
      "text/plain": [
       "2015-01-31    0.523299\n",
       "2015-02-28    0.444100\n",
       "2015-03-31    0.499409\n",
       "2015-04-30    0.547253\n",
       "2015-05-31    0.518303\n",
       "2015-06-30    0.541895\n",
       "2015-07-31    0.498382\n",
       "2015-08-31    0.453145\n",
       "2015-09-30    0.460134\n",
       "2015-10-31    0.652483\n",
       "2015-11-30    0.442723\n",
       "2015-12-31    0.457172\n",
       "Freq: M, dtype: float64"
      ]
     },
     "execution_count": 59,
     "metadata": {},
     "output_type": "execute_result"
    }
   ],
   "source": [
    "#Assignment4:Average For each calendar month\n",
    "\n",
    "s.resample('M', how='mean') "
   ]
  },
  {
   "cell_type": "code",
   "execution_count": 62,
   "metadata": {},
   "outputs": [
    {
     "name": "stderr",
     "output_type": "stream",
     "text": [
      "C:\\Users\\ANANYA\\Anaconda3\\lib\\site-packages\\ipykernel_launcher.py:3: FutureWarning: pd.TimeGrouper is deprecated and will be removed; Please use pd.Grouper(freq=...)\n",
      "  This is separate from the ipykernel package so we can avoid doing imports until\n"
     ]
    },
    {
     "data": {
      "text/plain": [
       "2015-01-31   2015-01-19\n",
       "2015-05-31   2015-04-20\n",
       "2015-09-30   2015-08-05\n",
       "2016-01-31   2015-11-23\n",
       "dtype: datetime64[ns]"
      ]
     },
     "execution_count": 62,
     "metadata": {},
     "output_type": "execute_result"
    }
   ],
   "source": [
    "#Assignment 5: For each group of four consecutive calendar months in s, find the date on which the highest value occurred.\n",
    "\n",
    "s.groupby(pd.TimeGrouper('4M')).idxmax()"
   ]
  }
 ],
 "metadata": {
  "kernelspec": {
   "display_name": "Python 3",
   "language": "python",
   "name": "python3"
  },
  "language_info": {
   "codemirror_mode": {
    "name": "ipython",
    "version": 3
   },
   "file_extension": ".py",
   "mimetype": "text/x-python",
   "name": "python",
   "nbconvert_exporter": "python",
   "pygments_lexer": "ipython3",
   "version": "3.6.5"
  }
 },
 "nbformat": 4,
 "nbformat_minor": 2
}
